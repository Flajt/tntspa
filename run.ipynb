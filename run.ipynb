{
 "cells": [
  {
   "cell_type": "markdown",
   "metadata": {},
   "source": [
    "# Necessary imports"
   ]
  },
  {
   "cell_type": "code",
   "execution_count": 1,
   "metadata": {},
   "outputs": [
    {
     "name": "stderr",
     "output_type": "stream",
     "text": [
      "/Library/Frameworks/Python.framework/Versions/3.6/lib/python3.6/site-packages/h5py/__init__.py:36: FutureWarning: Conversion of the second argument of issubdtype from `float` to `np.floating` is deprecated. In future, it will be treated as `np.float64 == np.dtype(float).type`.\n",
      "  from ._conv import register_converters as _register_converters\n",
      "Using TensorFlow backend.\n"
     ]
    }
   ],
   "source": [
    "import keras\n",
    "import numpy as np\n",
    "import random\n",
    "from preprocessing import load_vectors, preprocess_sentence, preprocess_sparql\n",
    "from keras.models import Model\n",
    "from keras.layers import Input, LSTM, Dense, Embedding, Bidirectional\n",
    "from keras.optimizers import RMSprop\n",
    "from keras.initializers import Orthogonal\n",
    "import fastText\n"
   ]
  },
  {
   "cell_type": "markdown",
   "metadata": {},
   "source": [
    "# Read English and SPARQL files\n",
    "\n",
    "- input English sentences\n",
    "- pre-trained English word vectors\n",
    "- target SPARQL queries\n"
   ]
  },
  {
   "cell_type": "code",
   "execution_count": 2,
   "metadata": {},
   "outputs": [],
   "source": [
    "# Files Reading\n",
    "file_input_en = \"data/qald-7-train-largescale.en\"\n",
    "file_input_en_vectors = \"data/wiki.en.bin\"\n",
    "file_target_sparql = \"data/qald-7-train-largescale.sparql\"\n",
    "\n",
    "sos_symbol = '<s>'\n",
    "eos_symbol = '</s>'"
   ]
  },
  {
   "cell_type": "markdown",
   "metadata": {},
   "source": [
    "# Preprocess the English sentences and load the vectors for both input and output(target)\n",
    "- deal with word boundaries\n",
    "- deal with starting and ending symbols (*unsettled*)"
   ]
  },
  {
   "cell_type": "code",
   "execution_count": 3,
   "metadata": {},
   "outputs": [
    {
     "name": "stdout",
     "output_type": "stream",
     "text": [
      "In which country is the Tasman Lake ?\n",
      "<s> SELECT DISTINCT ?uri WHERE { res:Tasman_Lake dbo:country ?uri . } </s>\n"
     ]
    }
   ],
   "source": [
    "input_texts = []\n",
    "with open(file_input_en) as file:\n",
    "    for line in file:\n",
    "        input_texts.append(preprocess_sentence(line))\n",
    "    \n",
    "target_texts = []\n",
    "with open(file_target_sparql) as file:\n",
    "    for line in file:\n",
    "        target_texts.append(preprocess_sparql(line))\n",
    "\n",
    "input_vectors = fastText.load_model(file_input_en_vectors) # Use fastText to load fastText vector models\n",
    "\n"
   ]
  },
  {
   "cell_type": "code",
   "execution_count": 4,
   "metadata": {},
   "outputs": [],
   "source": [
    "input_vocabulary = input_vectors.get_words()\n",
    "output_vocabulary = set()\n",
    "\n",
    "for target_text in target_texts:\n",
    "    output_vocabulary.update(target_text.split())\n",
    "\n",
    "encoder_vocab_size = len(input_vocabulary)\n",
    "decoder_vocab_size = len(output_vocabulary)"
   ]
  },
  {
   "cell_type": "markdown",
   "metadata": {},
   "source": [
    "# Declare Parameters for the model"
   ]
  },
  {
   "cell_type": "code",
   "execution_count": 5,
   "metadata": {},
   "outputs": [],
   "source": [
    "# Parameters\n",
    "batch_size = 1\n",
    "epochs = 100\n",
    "dropout = 0.2\n",
    "num_samples = len(input_texts)\n",
    "encoder_embedding_size = input_vectors.get_dimension()\n",
    "decoder_embedding_size = 300\n",
    "hidden_units = 128"
   ]
  },
  {
   "cell_type": "markdown",
   "metadata": {},
   "source": [
    "# Define the model"
   ]
  },
  {
   "cell_type": "code",
   "execution_count": 6,
   "metadata": {},
   "outputs": [],
   "source": [
    "# Model definition\n",
    "# Encoder\n",
    "encoder_inputs = Input(shape=(None, encoder_embedding_size))\n",
    "# encoder_embedding = Embedding(num_input_words+1, embedding_size, weights=[embedding_matrix], trainable=False)(encoder_inputs)\n",
    "encoder = LSTM(hidden_units, return_state=True, dropout=dropout, recurrent_dropout=dropout, kernel_initializer=Orthogonal(), recurrent_regularizer=keras.regularizers.l2())\n",
    "_, state_hidden, state_cell = encoder(encoder_inputs)\n",
    "encoder_states = [state_hidden, state_cell]\n",
    "\n",
    "# Decoder\n",
    "decoder_inputs = Input(shape=(None,))\n",
    "decoder_embedding = Embedding(decoder_vocab_size, decoder_embedding_size)(decoder_inputs)\n",
    "decoder_lstm = LSTM(hidden_units, return_sequences=True, return_state=True, dropout=dropout, recurrent_dropout=dropout, kernel_initializer=Orthogonal(), recurrent_regularizer=keras.regularizers.l2())\n",
    "decoder_outputs, _, _ = decoder_lstm(decoder_embedding, initial_state=encoder_states)\n",
    "decoder_dense = Dense(decoder_vocab_size, activation='softmax')\n",
    "decoder_outputs = decoder_dense(decoder_outputs)\n",
    "\n",
    "model = Model([encoder_inputs, decoder_inputs], decoder_outputs)\n"
   ]
  },
  {
   "cell_type": "markdown",
   "metadata": {},
   "source": [
    "# Initializing input data and target data"
   ]
  },
  {
   "cell_type": "code",
   "execution_count": 7,
   "metadata": {},
   "outputs": [
    {
     "name": "stdout",
     "output_type": "stream",
     "text": [
      "Number of samples: 100\n",
      "Number of unique input words: 2519370\n",
      "Number of unique output words: 289\n",
      "Max sequenc length for inputs: 12\n",
      "Max sequenc length for outputs: 57\n"
     ]
    }
   ],
   "source": [
    "\n",
    "# Data declaration\n",
    "max_encoder_seq_length = max([len(text.split()) for text in input_texts])\n",
    "max_decoder_seq_length = max([len(text.split()) for text in target_texts])\n",
    "\n",
    "print(\"Number of samples:\", num_samples)\n",
    "print(\"Number of unique input words:\", encoder_vocab_size)\n",
    "print(\"Number of unique output words:\", decoder_vocab_size)\n",
    "print(\"Max sequenc length for inputs:\", max_encoder_seq_length)\n",
    "print(\"Max sequenc length for outputs:\", max_decoder_seq_length)\n",
    "\n",
    "input_word_index = dict([(word, i) for i, word in enumerate(input_vocabulary)])\n",
    "target_word_index = dict([(word, i) for i, word in enumerate(output_vocabulary)])\n",
    "\n",
    "# Setting up encoder input data \n",
    "encoder_input_data = np.zeros((len(input_texts), max_encoder_seq_length, encoder_embedding_size), dtype='float32')\n",
    "\n",
    "# len(input_texts) == len(target_texts) because they exist as feature-label pairs\n",
    "decoder_input_data = np.zeros((len(input_texts), max_decoder_seq_length), dtype='float32')\n",
    "\n",
    "decoder_target_data = np.zeros((len(input_texts), max_decoder_seq_length, decoder_vocab_size), dtype='float32')\n",
    "\n",
    "for i, (input_text, target_text) in enumerate(zip(input_texts, target_texts)):\n",
    "    # Feed word embeddings into encoder as input\n",
    "    for t, word in enumerate(input_text.split()):\n",
    "        word_vector = input_vectors.get_word_vector(word.lower())\n",
    "        for j in range(encoder_embedding_size):\n",
    "            encoder_input_data[i, t, j] = word_vector[j]\n",
    "    # Feed word indexes into decoder as input,\n",
    "    # one-hot vectors as decoder target\n",
    "    for t, word in enumerate(target_text.split()):\n",
    "        decoder_input_data[i, t] = target_word_index[word]\n",
    "        if t > 0:\n",
    "            decoder_target_data[i, t-1, target_word_index[word]] = 1."
   ]
  },
  {
   "cell_type": "markdown",
   "metadata": {},
   "source": [
    "# Configure the model and train the model"
   ]
  },
  {
   "cell_type": "markdown",
   "metadata": {},
   "source": [
    "tb_callback = keras.callbacks.TensorBoard()\n",
    "\n",
    "\n",
    "- configure the model with optimizer and loss function"
   ]
  },
  {
   "cell_type": "code",
   "execution_count": 8,
   "metadata": {},
   "outputs": [],
   "source": [
    "my_optimizer = RMSprop(lr=0.001)\n",
    "\n",
    "model.compile(optimizer=my_optimizer, loss=keras.losses.categorical_crossentropy)"
   ]
  },
  {
   "cell_type": "markdown",
   "metadata": {},
   "source": [
    "- train the model:"
   ]
  },
  {
   "cell_type": "code",
   "execution_count": 9,
   "metadata": {},
   "outputs": [
    {
     "name": "stdout",
     "output_type": "stream",
     "text": [
      "Train on 80 samples, validate on 20 samples\n",
      "Epoch 1/100\n",
      "80/80 [==============================] - 8s 101ms/step - loss: 1.8615 - val_loss: 1.3338\n",
      "Epoch 2/100\n",
      "80/80 [==============================] - 6s 76ms/step - loss: 0.9534 - val_loss: 1.0770\n",
      "Epoch 3/100\n",
      "80/80 [==============================] - 6s 80ms/step - loss: 0.8059 - val_loss: 0.9673\n",
      "Epoch 4/100\n",
      "80/80 [==============================] - 7s 81ms/step - loss: 0.7191 - val_loss: 0.8844\n",
      "Epoch 5/100\n",
      "80/80 [==============================] - 7s 82ms/step - loss: 0.6516 - val_loss: 0.8155\n",
      "Epoch 6/100\n",
      "80/80 [==============================] - 7s 85ms/step - loss: 0.5960 - val_loss: 0.7428\n",
      "Epoch 7/100\n",
      "80/80 [==============================] - 7s 89ms/step - loss: 0.5570 - val_loss: 0.7175\n",
      "Epoch 8/100\n",
      "80/80 [==============================] - 7s 85ms/step - loss: 0.5213 - val_loss: 0.7040\n",
      "Epoch 9/100\n",
      "80/80 [==============================] - 7s 83ms/step - loss: 0.4936 - val_loss: 0.7022\n",
      "Epoch 10/100\n",
      "80/80 [==============================] - 7s 86ms/step - loss: 0.4665 - val_loss: 0.6772\n",
      "Epoch 11/100\n",
      "80/80 [==============================] - 7s 85ms/step - loss: 0.4497 - val_loss: 0.6753\n",
      "Epoch 12/100\n",
      "80/80 [==============================] - 7s 85ms/step - loss: 0.4304 - val_loss: 0.7037\n",
      "Epoch 13/100\n",
      "80/80 [==============================] - 7s 93ms/step - loss: 0.4127 - val_loss: 0.6879\n",
      "Epoch 14/100\n",
      "80/80 [==============================] - 8s 102ms/step - loss: 0.3955 - val_loss: 0.6848\n",
      "Epoch 15/100\n",
      "80/80 [==============================] - 8s 102ms/step - loss: 0.3799 - val_loss: 0.6962\n",
      "Epoch 16/100\n",
      "80/80 [==============================] - 7s 92ms/step - loss: 0.3629 - val_loss: 0.6948\n",
      "Epoch 17/100\n",
      "80/80 [==============================] - 7s 88ms/step - loss: 0.3530 - val_loss: 0.6960\n",
      "Epoch 18/100\n",
      "80/80 [==============================] - 7s 90ms/step - loss: 0.3391 - val_loss: 0.7041\n",
      "Epoch 19/100\n",
      "80/80 [==============================] - 7s 89ms/step - loss: 0.3261 - val_loss: 0.6980\n",
      "Epoch 20/100\n",
      "80/80 [==============================] - 7s 88ms/step - loss: 0.3143 - val_loss: 0.7072\n",
      "Epoch 21/100\n",
      "80/80 [==============================] - 7s 89ms/step - loss: 0.3040 - val_loss: 0.7199\n",
      "Epoch 22/100\n",
      "80/80 [==============================] - 7s 91ms/step - loss: 0.2922 - val_loss: 0.7222\n",
      "Epoch 23/100\n",
      "80/80 [==============================] - 7s 90ms/step - loss: 0.2827 - val_loss: 0.7304\n",
      "Epoch 24/100\n",
      "80/80 [==============================] - 7s 89ms/step - loss: 0.2731 - val_loss: 0.7349\n",
      "Epoch 25/100\n",
      "80/80 [==============================] - 7s 89ms/step - loss: 0.2613 - val_loss: 0.7400\n",
      "Epoch 26/100\n",
      "80/80 [==============================] - 7s 90ms/step - loss: 0.2522 - val_loss: 0.7616\n",
      "Epoch 27/100\n",
      "80/80 [==============================] - 7s 91ms/step - loss: 0.2446 - val_loss: 0.7626\n",
      "Epoch 28/100\n",
      "80/80 [==============================] - 7s 91ms/step - loss: 0.2365 - val_loss: 0.7707\n",
      "Epoch 29/100\n",
      "80/80 [==============================] - 7s 91ms/step - loss: 0.2287 - val_loss: 0.7893\n",
      "Epoch 30/100\n",
      "80/80 [==============================] - 7s 93ms/step - loss: 0.2180 - val_loss: 0.7715\n",
      "Epoch 31/100\n",
      "80/80 [==============================] - 7s 91ms/step - loss: 0.2123 - val_loss: 0.7963\n",
      "Epoch 32/100\n",
      "80/80 [==============================] - 7s 91ms/step - loss: 0.2006 - val_loss: 0.7855\n",
      "Epoch 33/100\n",
      "80/80 [==============================] - 7s 91ms/step - loss: 0.1889 - val_loss: 0.8077\n",
      "Epoch 34/100\n",
      "80/80 [==============================] - 7s 91ms/step - loss: 0.1847 - val_loss: 0.8238\n",
      "Epoch 35/100\n",
      "80/80 [==============================] - 7s 92ms/step - loss: 0.1769 - val_loss: 0.7966\n",
      "Epoch 36/100\n",
      "80/80 [==============================] - 7s 91ms/step - loss: 0.1685 - val_loss: 0.8346\n",
      "Epoch 37/100\n",
      "80/80 [==============================] - 7s 91ms/step - loss: 0.1615 - val_loss: 0.8589\n",
      "Epoch 38/100\n",
      "80/80 [==============================] - 7s 93ms/step - loss: 0.1565 - val_loss: 0.8301\n",
      "Epoch 39/100\n",
      "80/80 [==============================] - 7s 92ms/step - loss: 0.1469 - val_loss: 0.8614\n",
      "Epoch 40/100\n",
      "80/80 [==============================] - 7s 92ms/step - loss: 0.1425 - val_loss: 0.8642\n",
      "Epoch 41/100\n",
      "80/80 [==============================] - 7s 92ms/step - loss: 0.1358 - val_loss: 0.8835\n",
      "Epoch 42/100\n",
      "80/80 [==============================] - 7s 91ms/step - loss: 0.1293 - val_loss: 0.8720\n",
      "Epoch 43/100\n",
      "80/80 [==============================] - 7s 93ms/step - loss: 0.1243 - val_loss: 0.9107\n",
      "Epoch 44/100\n",
      "80/80 [==============================] - 7s 92ms/step - loss: 0.1169 - val_loss: 0.8831\n",
      "Epoch 45/100\n",
      "80/80 [==============================] - 7s 92ms/step - loss: 0.1114 - val_loss: 0.9252\n",
      "Epoch 46/100\n",
      "80/80 [==============================] - 7s 91ms/step - loss: 0.1018 - val_loss: 0.8865\n",
      "Epoch 47/100\n",
      "80/80 [==============================] - 7s 93ms/step - loss: 0.0994 - val_loss: 0.9041\n",
      "Epoch 48/100\n",
      "80/80 [==============================] - 7s 93ms/step - loss: 0.0926 - val_loss: 0.9122\n",
      "Epoch 49/100\n",
      "80/80 [==============================] - 7s 90ms/step - loss: 0.0901 - val_loss: 0.9601\n",
      "Epoch 50/100\n",
      "80/80 [==============================] - 7s 91ms/step - loss: 0.0849 - val_loss: 0.9455\n",
      "Epoch 51/100\n",
      "80/80 [==============================] - 8s 101ms/step - loss: 0.0817 - val_loss: 0.9382\n",
      "Epoch 52/100\n",
      "80/80 [==============================] - 7s 92ms/step - loss: 0.0760 - val_loss: 0.9254\n",
      "Epoch 53/100\n",
      "80/80 [==============================] - 8s 94ms/step - loss: 0.0694 - val_loss: 0.9344\n",
      "Epoch 54/100\n",
      "80/80 [==============================] - 7s 93ms/step - loss: 0.0664 - val_loss: 0.9559\n",
      "Epoch 55/100\n",
      "80/80 [==============================] - 8s 94ms/step - loss: 0.0634 - val_loss: 0.9492\n",
      "Epoch 56/100\n",
      "80/80 [==============================] - 7s 92ms/step - loss: 0.0598 - val_loss: 0.9449\n",
      "Epoch 57/100\n",
      "80/80 [==============================] - 8s 95ms/step - loss: 0.0576 - val_loss: 0.9420\n",
      "Epoch 58/100\n",
      "80/80 [==============================] - 7s 94ms/step - loss: 0.0516 - val_loss: 0.9626\n",
      "Epoch 59/100\n",
      "80/80 [==============================] - 8s 94ms/step - loss: 0.0505 - val_loss: 0.9631\n",
      "Epoch 60/100\n",
      "80/80 [==============================] - 8s 96ms/step - loss: 0.0464 - val_loss: 0.9473\n",
      "Epoch 61/100\n",
      "80/80 [==============================] - 7s 93ms/step - loss: 0.0444 - val_loss: 0.9652\n",
      "Epoch 62/100\n",
      "80/80 [==============================] - 8s 95ms/step - loss: 0.0415 - val_loss: 0.9794\n",
      "Epoch 63/100\n",
      "80/80 [==============================] - 7s 93ms/step - loss: 0.0391 - val_loss: 0.9850\n",
      "Epoch 64/100\n",
      "80/80 [==============================] - 8s 94ms/step - loss: 0.0367 - val_loss: 0.9841\n",
      "Epoch 65/100\n",
      "80/80 [==============================] - 7s 94ms/step - loss: 0.0369 - val_loss: 0.9690\n",
      "Epoch 66/100\n",
      "80/80 [==============================] - 7s 93ms/step - loss: 0.0314 - val_loss: 1.0010\n",
      "Epoch 67/100\n",
      "80/80 [==============================] - 8s 94ms/step - loss: 0.0295 - val_loss: 0.9921\n",
      "Epoch 68/100\n",
      "80/80 [==============================] - 7s 94ms/step - loss: 0.0279 - val_loss: 0.9740\n",
      "Epoch 69/100\n",
      "80/80 [==============================] - 7s 93ms/step - loss: 0.0271 - val_loss: 0.9956\n",
      "Epoch 70/100\n",
      "80/80 [==============================] - 7s 91ms/step - loss: 0.0255 - val_loss: 0.9805\n",
      "Epoch 71/100\n",
      "80/80 [==============================] - 7s 94ms/step - loss: 0.0261 - val_loss: 0.9836\n",
      "Epoch 72/100\n",
      "80/80 [==============================] - 7s 92ms/step - loss: 0.0218 - val_loss: 0.9846\n",
      "Epoch 73/100\n",
      "80/80 [==============================] - 7s 93ms/step - loss: 0.0206 - val_loss: 0.9803\n",
      "Epoch 74/100\n",
      "80/80 [==============================] - 7s 93ms/step - loss: 0.0191 - val_loss: 0.9659\n",
      "Epoch 75/100\n",
      "80/80 [==============================] - 8s 95ms/step - loss: 0.0173 - val_loss: 0.9849\n",
      "Epoch 76/100\n",
      "80/80 [==============================] - 8s 94ms/step - loss: 0.0160 - val_loss: 0.9919\n",
      "Epoch 77/100\n",
      "80/80 [==============================] - 8s 94ms/step - loss: 0.0152 - val_loss: 0.9925\n",
      "Epoch 78/100\n",
      "80/80 [==============================] - 8s 94ms/step - loss: 0.0151 - val_loss: 0.9934\n",
      "Epoch 79/100\n",
      "80/80 [==============================] - 8s 95ms/step - loss: 0.0132 - val_loss: 0.9701\n",
      "Epoch 80/100\n",
      "80/80 [==============================] - 7s 93ms/step - loss: 0.0122 - val_loss: 1.0112\n",
      "Epoch 81/100\n"
     ]
    },
    {
     "name": "stdout",
     "output_type": "stream",
     "text": [
      "80/80 [==============================] - 7s 91ms/step - loss: 0.0117 - val_loss: 1.0073\n",
      "Epoch 82/100\n",
      "80/80 [==============================] - 7s 90ms/step - loss: 0.0113 - val_loss: 0.9893\n",
      "Epoch 83/100\n",
      "80/80 [==============================] - 7s 91ms/step - loss: 0.0104 - val_loss: 0.9876\n",
      "Epoch 84/100\n",
      "80/80 [==============================] - 7s 92ms/step - loss: 0.0098 - val_loss: 0.9761\n",
      "Epoch 85/100\n",
      "80/80 [==============================] - 7s 91ms/step - loss: 0.0088 - val_loss: 0.9924\n",
      "Epoch 86/100\n",
      "80/80 [==============================] - 7s 91ms/step - loss: 0.0087 - val_loss: 1.0004\n",
      "Epoch 87/100\n",
      "80/80 [==============================] - 7s 92ms/step - loss: 0.0095 - val_loss: 0.9689\n",
      "Epoch 88/100\n",
      "80/80 [==============================] - 7s 91ms/step - loss: 0.0072 - val_loss: 0.9840\n",
      "Epoch 89/100\n",
      "80/80 [==============================] - 7s 91ms/step - loss: 0.0067 - val_loss: 0.9621\n",
      "Epoch 90/100\n",
      "80/80 [==============================] - 7s 90ms/step - loss: 0.0065 - val_loss: 0.9780\n",
      "Epoch 91/100\n",
      "80/80 [==============================] - 7s 91ms/step - loss: 0.0061 - val_loss: 0.9796\n",
      "Epoch 92/100\n",
      "80/80 [==============================] - 7s 92ms/step - loss: 0.0059 - val_loss: 0.9899\n",
      "Epoch 93/100\n",
      "80/80 [==============================] - 7s 91ms/step - loss: 0.0051 - val_loss: 0.9674\n",
      "Epoch 94/100\n",
      "80/80 [==============================] - 7s 91ms/step - loss: 0.0050 - val_loss: 0.9724\n",
      "Epoch 95/100\n",
      "80/80 [==============================] - 7s 91ms/step - loss: 0.0046 - val_loss: 0.9845\n",
      "Epoch 96/100\n",
      "80/80 [==============================] - 7s 91ms/step - loss: 0.0043 - val_loss: 0.9660\n",
      "Epoch 97/100\n",
      "80/80 [==============================] - 7s 92ms/step - loss: 0.0037 - val_loss: 0.9709\n",
      "Epoch 98/100\n",
      "80/80 [==============================] - 7s 91ms/step - loss: 0.0039 - val_loss: 0.9781\n",
      "Epoch 99/100\n",
      "80/80 [==============================] - 7s 91ms/step - loss: 0.0045 - val_loss: 0.9859\n",
      "Epoch 100/100\n",
      "80/80 [==============================] - 7s 90ms/step - loss: 0.0040 - val_loss: 0.9764\n"
     ]
    }
   ],
   "source": [
    "\n",
    "history = model.fit([encoder_input_data, decoder_input_data], decoder_target_data, \n",
    "    batch_size=batch_size, epochs=epochs, validation_split=0.2, shuffle=True\n",
    ")\n",
    "\n"
   ]
  },
  {
   "cell_type": "markdown",
   "metadata": {},
   "source": [
    "# Visualize the training loss and save the model\n",
    "\n",
    "- plot the training loss and validation loss along with epochs"
   ]
  },
  {
   "cell_type": "code",
   "execution_count": null,
   "metadata": {},
   "outputs": [],
   "source": [
    "from matplotlib import pyplot\n",
    "\n",
    "pyplot.plot(history.history['loss'])\n",
    "pyplot.plot(history.history['val_loss'])\n",
    "pyplot.title('model train vs validation loss')\n",
    "pyplot.ylabel('loss')\n",
    "pyplot.xlabel('epoch')\n",
    "pyplot.legend(['train', 'validation'], loc='upper right')\n",
    "pyplot.show()"
   ]
  },
  {
   "cell_type": "markdown",
   "metadata": {},
   "source": [
    "- plot the model into an image\n",
    "- save the model"
   ]
  },
  {
   "cell_type": "code",
   "execution_count": null,
   "metadata": {},
   "outputs": [],
   "source": [
    "from keras.utils import plot_model\n",
    "\n",
    "plot_model(model, to_file='output/model.png')\n",
    "\n",
    "model.save('output/seq2seq.h5')"
   ]
  },
  {
   "cell_type": "markdown",
   "metadata": {},
   "source": [
    "# Inference mode\n",
    "Input some sentence into the encoder, and decode the output sequence"
   ]
  },
  {
   "cell_type": "code",
   "execution_count": 10,
   "metadata": {},
   "outputs": [],
   "source": [
    "# Inference\n",
    "\n",
    "encoder_model = Model(encoder_inputs, encoder_states)\n",
    "decoder_state_input_hidden = Input(shape=(hidden_units,))\n",
    "decoder_state_input_cell = Input(shape=(hidden_units,))\n",
    "decoder_states_inputs = [decoder_state_input_hidden, decoder_state_input_cell]\n",
    "\n",
    "decoder_outputs, state_hidden, state_cell = decoder_lstm(decoder_embedding, initial_state=decoder_states_inputs)\n",
    "decoder_states = [state_hidden, state_cell]\n",
    "decoder_outputs = decoder_dense(decoder_outputs)\n",
    "decoder_model = Model(\n",
    "    [decoder_inputs] + decoder_states_inputs,\n",
    "    [decoder_outputs] + decoder_states\n",
    ")\n",
    "\n",
    "reverse_input_word_index = dict((i, char) for char, i in input_word_index.items())\n",
    "reverse_target_word_index = dict((i, char) for char, i in target_word_index.items())\n"
   ]
  },
  {
   "cell_type": "code",
   "execution_count": 11,
   "metadata": {},
   "outputs": [],
   "source": [
    "def decode_sequence(input_seq):\n",
    "    states_value = encoder_model.predict(input_seq)\n",
    "    target_seq = np.zeros((1,))\n",
    "    target_seq[0] = target_word_index[sos_symbol]\n",
    "\n",
    "    stop_condition = False\n",
    "    decoded_sentence = []\n",
    "    while not stop_condition:\n",
    "        decoder_output, h, c = decoder_model.predict([target_seq] + states_value)\n",
    "\n",
    "        sampled_word_index = np.argmax(decoder_output[0, -1, :])\n",
    "        sampled_word = reverse_target_word_index[sampled_word_index]\n",
    "\n",
    "        if sampled_word == eos_symbol or len(decoded_sentence) > max_decoder_seq_length:\n",
    "            stop_condition = True\n",
    "        else:\n",
    "            decoded_sentence.append(sampled_word)\n",
    "\n",
    "        target_seq = np.zeros((1,))\n",
    "        target_seq[0] = sampled_word_index\n",
    "\n",
    "        states_value = [h, c]\n",
    "\n",
    "    return decoded_sentence\n"
   ]
  },
  {
   "cell_type": "code",
   "execution_count": 12,
   "metadata": {},
   "outputs": [
    {
     "name": "stdout",
     "output_type": "stream",
     "text": [
      "- 8th:\n",
      "Input sentence: Give me all companies in Jena .\n",
      "Decoded sentence: SELECT DISTINCT ?uri ?string WHERE { ?uri rdf:type dbo:Company . { ?uri dbo:location res:Jena . } UNION { ?uri dbo:headquarter res:Jena . } UNION { ?uri dbo:locationCity res:Jena . } OPTIONAL { ?uri rdfs:label ?string. FILTER (lang(?string) = 'en') } }\n",
      "Decoded sentence length: 41\n",
      "Target sentence: <s> SELECT DISTINCT ?uri ?string WHERE { ?uri rdf:type dbo:Company . { ?uri dbo:location res:Jena . } UNION { ?uri dbo:headquarter res:Jena . } UNION { ?uri dbo:locationCity res:Jena . } OPTIONAL { ?uri rdfs:label ?string. FILTER (lang(?string) = 'en') } } </s>\n",
      "Target sentence length: 43\n",
      "- 57th:\n",
      "Input sentence: What is the official color of the Carleton University ?\n",
      "Decoded sentence: SELECT DISTINCT ?string WHERE { res:Carleton_University dbo:officialSchoolColour ?string . }\n",
      "Decoded sentence length: 10\n",
      "Target sentence: <s> SELECT DISTINCT ?string WHERE { res:Carleton_University dbo:officialSchoolColour ?string . } </s>\n",
      "Target sentence length: 12\n",
      "- 40th:\n",
      "Input sentence: Is Sol Tax a scientist ?\n",
      "Decoded sentence: ASK WHERE { res:Sol_Tax rdf:type dbo:Scientist . }\n",
      "Decoded sentence length: 8\n",
      "Target sentence: <s> ASK WHERE { res:Sol_Tax rdf:type dbo:Scientist . } </s>\n",
      "Target sentence length: 10\n",
      "- 64th:\n",
      "Input sentence: When was the Cobble Hill Tunnel built ?\n",
      "Decoded sentence: SELECT ?num WHERE { res:Cobble_Hill_Tunnel dbp:built ?num . }\n",
      "Decoded sentence length: 9\n",
      "Target sentence: <s> SELECT ?num WHERE { res:Cobble_Hill_Tunnel dbp:built ?num . } </s>\n",
      "Target sentence length: 11\n",
      "- 5th:\n",
      "Input sentence: Give me all Avant-garde jazz record labels .\n",
      "Decoded sentence: SELECT DISTINCT ?uri ?string WHERE { ?uri rdf:type dbo:RecordLabel . ?uri dbo:genre res:Avant-garde_jazz . OPTIONAL { ?uri rdfs:label ?string . FILTER (lang(?string) = 'en') } }\n",
      "Decoded sentence length: 26\n",
      "Target sentence: <s> SELECT DISTINCT ?uri ?string WHERE { ?uri rdf:type dbo:RecordLabel . ?uri dbo:genre res:Avant-garde_jazz . OPTIONAL { ?uri rdfs:label ?string . FILTER (lang(?string) = 'en') } } </s>\n",
      "Target sentence length: 28\n",
      "- 55th:\n",
      "Input sentence: What is the eye color of Liza Kennedy ?\n",
      "Decoded sentence: SELECT DISTINCT ?color WHERE { res:Liza_Kennedy dbo:eyeColor ?color . }\n",
      "Decoded sentence length: 10\n",
      "Target sentence: <s> SELECT DISTINCT ?color WHERE { res:Liza_Kennedy dbo:eyeColor ?color . } </s>\n",
      "Target sentence length: 12\n",
      "- 80th:\n",
      "Input sentence: Who created Retrocrush ?\n",
      "Decoded sentence: ASK WHERE { ?uri rdf:type dbo:Organisation . { ?uri dbp:foundation ?date . } UNION { ?uri dbo:formationYear ?date . } FILTER regex(?date,'^1918') . OPTIONAL { ?uri rdfs:label ?string . FILTER (lang(?string) = 'en') } }\n",
      "Decoded sentence length: 35\n",
      "Target sentence: <s> SELECT DISTINCT ?uri ?string WHERE { res:Retrocrush dbo:author ?uri . OPTIONAL { ?uri rdfs:label ?string . FILTER (lang(?string) = 'en') } } </s>\n",
      "Target sentence length: 24\n",
      "- 35th:\n",
      "Input sentence: In which country is the Tasman Lake ?\n",
      "Decoded sentence: SELECT DISTINCT ?uri WHERE { res:Tasman_Lake dbo:country ?uri . }\n",
      "Decoded sentence length: 10\n",
      "Target sentence: <s> SELECT DISTINCT ?uri WHERE { res:Tasman_Lake dbo:country ?uri . } </s>\n",
      "Target sentence length: 12\n",
      "- 79th:\n",
      "Input sentence: Which professional surfers were born in Australia ?\n",
      "Decoded sentence: SELECT DISTINCT ?uri ?string WHERE { ?uri dbo:occupation res:Surfing . ?uri dbo:birthPlace res:Australia . OPTIONAL { ?uri rdfs:label ?string. FILTER (lang(?string) = 'en') } }\n",
      "Decoded sentence length: 25\n",
      "Target sentence: <s> SELECT DISTINCT ?uri ?string WHERE { ?uri dbo:occupation res:Surfing . ?uri dbo:birthPlace res:Australia . OPTIONAL { ?uri rdfs:label ?string. FILTER (lang(?string) = 'en') } } </s>\n",
      "Target sentence length: 27\n",
      "- 51th:\n",
      "Input sentence: What are the official languages of Tunisia ?\n",
      "Decoded sentence: SELECT DISTINCT ?uri ?string WHERE { res:Tunisia dbo:officialLanguage ?uri . OPTIONAL { ?uri rdfs:label ?string. FILTER (lang(?string) = 'en') } }\n",
      "Decoded sentence length: 21\n",
      "Target sentence: <s> SELECT DISTINCT ?uri ?string WHERE { res:Tunisia dbo:officialLanguage ?uri . OPTIONAL { ?uri rdfs:label ?string. FILTER (lang(?string) = 'en') } } </s>\n",
      "Target sentence length: 23\n"
     ]
    }
   ],
   "source": [
    "\n",
    "# Try out decoding sentences from training set\n",
    "# because we train on training set, the result should be good\n",
    "for seq_index in random.sample(range(num_samples), 10):\n",
    "    input_seq = encoder_input_data[seq_index:seq_index+1]\n",
    "    decoded_sentence = decode_sequence(input_seq)\n",
    "    print('-', str(seq_index)+'th:' )\n",
    "    print('Input sentence:', input_texts[seq_index])\n",
    "    print('Decoded sentence:', *decoded_sentence)\n",
    "    print('Decoded sentence length:', len(decoded_sentence))\n",
    "    print('Target sentence:', target_texts[seq_index])\n",
    "    print('Target sentence length:', len(target_texts[seq_index].split()))"
   ]
  },
  {
   "cell_type": "code",
   "execution_count": null,
   "metadata": {},
   "outputs": [],
   "source": []
  }
 ],
 "metadata": {
  "kernelspec": {
   "display_name": "Python 3",
   "language": "python",
   "name": "python3"
  },
  "language_info": {
   "codemirror_mode": {
    "name": "ipython",
    "version": 3
   },
   "file_extension": ".py",
   "mimetype": "text/x-python",
   "name": "python",
   "nbconvert_exporter": "python",
   "pygments_lexer": "ipython3",
   "version": "3.6.5"
  }
 },
 "nbformat": 4,
 "nbformat_minor": 2
}
