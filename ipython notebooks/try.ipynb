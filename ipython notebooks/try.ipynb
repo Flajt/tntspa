{
 "cells": [
  {
   "cell_type": "code",
   "execution_count": 1,
   "metadata": {},
   "outputs": [
    {
     "name": "stderr",
     "output_type": "stream",
     "text": [
      "/Library/Frameworks/Python.framework/Versions/3.6/lib/python3.6/site-packages/h5py/__init__.py:36: FutureWarning: Conversion of the second argument of issubdtype from `float` to `np.floating` is deprecated. In future, it will be treated as `np.float64 == np.dtype(float).type`.\n",
      "  from ._conv import register_converters as _register_converters\n",
      "Using TensorFlow backend.\n"
     ]
    }
   ],
   "source": [
    "import utils\n",
    "from model import MyModel\n",
    "from fasttext_vector import FastTextVector\n",
    "import time"
   ]
  },
  {
   "cell_type": "code",
   "execution_count": 2,
   "metadata": {},
   "outputs": [],
   "source": [
    "input_texts = utils.read_lines(\"data/monument_300/train.en\")\n",
    "target_texts = utils.read_lines(\"data/monument_300/train.sparql\")"
   ]
  },
  {
   "cell_type": "code",
   "execution_count": 3,
   "metadata": {},
   "outputs": [
    {
     "name": "stdout",
     "output_type": "stream",
     "text": [
      "fastText model loading...\n",
      "fastText model loaded! Elapsed time:  00:00:25\n"
     ]
    }
   ],
   "source": [
    "start_time = time.time()\n",
    "print(\"fastText model loading...\")\n",
    "fasttext_model = FastTextVector(\"data/wiki.en.bin\")\n",
    "e = int(time.time() - start_time)\n",
    "print(\"fastText model loaded! Elapsed time: \", '{:02d}:{:02d}:{:02d}'.format(e // 3600, (e % 3600 // 60), e % 60))"
   ]
  },
  {
   "cell_type": "code",
   "execution_count": 4,
   "metadata": {},
   "outputs": [
    {
     "name": "stdout",
     "output_type": "stream",
     "text": [
      "Number of samples: 8344\n",
      "Number of unique input words: 2519370\n",
      "Number of unique output words: 1658\n",
      "Max sequenc length for inputs: 21\n",
      "Max sequenc length for outputs: 33\n",
      "Train on 6675 samples, validate on 1669 samples\n",
      "Epoch 1/2\n",
      "6675/6675 [==============================] - 26s 4ms/step - loss: 2.4018 - categorical_accuracy: 0.1169 - val_loss: 1.1417 - val_categorical_accuracy: 0.1663\n",
      "Epoch 2/2\n",
      "6675/6675 [==============================] - 21s 3ms/step - loss: 0.9836 - categorical_accuracy: 0.2001 - val_loss: 0.8263 - val_categorical_accuracy: 0.2329\n"
     ]
    }
   ],
   "source": [
    "model = MyModel(input_word_vector=fasttext_model, num_layers=2)\n",
    "history = model.train(input_texts, target_texts, epochs=2)"
   ]
  },
  {
   "cell_type": "code",
   "execution_count": 5,
   "metadata": {},
   "outputs": [],
   "source": [
    "# print(model.inference(\"have germany does monument many how\"))"
   ]
  },
  {
   "cell_type": "code",
   "execution_count": 6,
   "metadata": {},
   "outputs": [
    {
     "name": "stdout",
     "output_type": "stream",
     "text": [
      "{'validation_data': [array([[[ 0.09887739,  0.08635049,  0.28394052, ...,  0.06321312,\n",
      "         -0.10554288,  0.00314234],\n",
      "        [ 0.0488039 , -0.2852779 ,  0.01855736, ...,  0.13909999,\n",
      "         -0.13713703, -0.0397049 ],\n",
      "        [-0.472309  , -0.04073747, -0.17279162, ...,  0.30317613,\n",
      "          0.19767496,  0.2703016 ],\n",
      "        ...,\n",
      "        [ 0.        ,  0.        ,  0.        , ...,  0.        ,\n",
      "          0.        ,  0.        ],\n",
      "        [ 0.        ,  0.        ,  0.        , ...,  0.        ,\n",
      "          0.        ,  0.        ],\n",
      "        [ 0.        ,  0.        ,  0.        , ...,  0.        ,\n",
      "          0.        ,  0.        ]],\n",
      "\n",
      "       [[-0.07919172,  0.05193654, -0.07313696, ...,  0.08604176,\n",
      "          0.04176645, -0.00977371],\n",
      "        [-0.11286288, -0.00661475, -0.11885122, ...,  0.09236185,\n",
      "         -0.06366735,  0.05429303],\n",
      "        [-0.07028973, -0.00647858, -0.19109266, ...,  0.1024685 ,\n",
      "          0.1512129 , -0.23621555],\n",
      "        ...,\n",
      "        [ 0.        ,  0.        ,  0.        , ...,  0.        ,\n",
      "          0.        ,  0.        ],\n",
      "        [ 0.        ,  0.        ,  0.        , ...,  0.        ,\n",
      "          0.        ,  0.        ],\n",
      "        [ 0.        ,  0.        ,  0.        , ...,  0.        ,\n",
      "          0.        ,  0.        ]],\n",
      "\n",
      "       [[-0.16792332, -0.02492267, -0.15657428, ...,  0.2439448 ,\n",
      "         -0.08849449,  0.069806  ],\n",
      "        [-0.2705158 , -0.02615874, -0.20213468, ...,  0.10634881,\n",
      "          0.22127828, -0.268558  ],\n",
      "        [ 0.02006393, -0.00637237,  0.02747171, ...,  0.10735754,\n",
      "         -0.07414451, -0.11003876],\n",
      "        ...,\n",
      "        [ 0.        ,  0.        ,  0.        , ...,  0.        ,\n",
      "          0.        ,  0.        ],\n",
      "        [ 0.        ,  0.        ,  0.        , ...,  0.        ,\n",
      "          0.        ,  0.        ],\n",
      "        [ 0.        ,  0.        ,  0.        , ...,  0.        ,\n",
      "          0.        ,  0.        ]],\n",
      "\n",
      "       ...,\n",
      "\n",
      "       [[-0.10418866, -0.27033058, -0.01835662, ...,  0.21545379,\n",
      "         -0.12852809, -0.18078463],\n",
      "        [ 0.00726667, -0.0730295 , -0.00708766, ...,  0.15220597,\n",
      "         -0.12504768,  0.00633633],\n",
      "        [ 0.0488039 , -0.2852779 ,  0.01855736, ...,  0.13909999,\n",
      "         -0.13713703, -0.0397049 ],\n",
      "        ...,\n",
      "        [ 0.        ,  0.        ,  0.        , ...,  0.        ,\n",
      "          0.        ,  0.        ],\n",
      "        [ 0.        ,  0.        ,  0.        , ...,  0.        ,\n",
      "          0.        ,  0.        ],\n",
      "        [ 0.        ,  0.        ,  0.        , ...,  0.        ,\n",
      "          0.        ,  0.        ]],\n",
      "\n",
      "       [[-0.8052476 , -0.01187043,  0.1390126 , ...,  0.22021863,\n",
      "          0.13647479,  0.33503747],\n",
      "        [ 0.0488039 , -0.2852779 ,  0.01855736, ...,  0.13909999,\n",
      "         -0.13713703, -0.0397049 ],\n",
      "        [-0.1892125 , -0.09136145, -0.25599855, ..., -0.33175915,\n",
      "          0.12696004, -0.09751699],\n",
      "        ...,\n",
      "        [ 0.        ,  0.        ,  0.        , ...,  0.        ,\n",
      "          0.        ,  0.        ],\n",
      "        [ 0.        ,  0.        ,  0.        , ...,  0.        ,\n",
      "          0.        ,  0.        ],\n",
      "        [ 0.        ,  0.        ,  0.        , ...,  0.        ,\n",
      "          0.        ,  0.        ]],\n",
      "\n",
      "       [[-0.03211831,  0.16417833, -0.13476755, ...,  0.01738332,\n",
      "          0.13745487, -0.14131507],\n",
      "        [-0.23036551,  0.09799499,  0.10518935, ...,  0.1670309 ,\n",
      "          0.47968715,  0.06854653],\n",
      "        [-0.06533351, -0.09303059, -0.01757069, ...,  0.16642082,\n",
      "         -0.13078983,  0.03539713],\n",
      "        ...,\n",
      "        [ 0.        ,  0.        ,  0.        , ...,  0.        ,\n",
      "          0.        ,  0.        ],\n",
      "        [ 0.        ,  0.        ,  0.        , ...,  0.        ,\n",
      "          0.        ,  0.        ],\n",
      "        [ 0.        ,  0.        ,  0.        , ...,  0.        ,\n",
      "          0.        ,  0.        ]]], dtype=float32), array([[699., 729., 427., ...,   0.,   0.,   0.],\n",
      "       [699., 729., 427., ...,   0.,   0.,   0.],\n",
      "       [699., 729., 427., ...,   0.,   0.,   0.],\n",
      "       ...,\n",
      "       [699., 729., 427., ...,   0.,   0.,   0.],\n",
      "       [699., 729., 427., ...,   0.,   0.,   0.],\n",
      "       [699., 729., 427., ...,   0.,   0.,   0.]], dtype=float32), array([[[0., 0., 0., ..., 0., 0., 0.],\n",
      "        [0., 0., 0., ..., 0., 0., 0.],\n",
      "        [0., 0., 0., ..., 0., 0., 0.],\n",
      "        ...,\n",
      "        [0., 0., 0., ..., 0., 0., 0.],\n",
      "        [0., 0., 0., ..., 0., 0., 0.],\n",
      "        [0., 0., 0., ..., 0., 0., 0.]],\n",
      "\n",
      "       [[0., 0., 0., ..., 0., 0., 0.],\n",
      "        [0., 0., 0., ..., 0., 0., 0.],\n",
      "        [0., 0., 0., ..., 0., 0., 0.],\n",
      "        ...,\n",
      "        [0., 0., 0., ..., 0., 0., 0.],\n",
      "        [0., 0., 0., ..., 0., 0., 0.],\n",
      "        [0., 0., 0., ..., 0., 0., 0.]],\n",
      "\n",
      "       [[0., 0., 0., ..., 0., 0., 0.],\n",
      "        [0., 0., 0., ..., 0., 0., 0.],\n",
      "        [0., 0., 0., ..., 0., 0., 0.],\n",
      "        ...,\n",
      "        [0., 0., 0., ..., 0., 0., 0.],\n",
      "        [0., 0., 0., ..., 0., 0., 0.],\n",
      "        [0., 0., 0., ..., 0., 0., 0.]],\n",
      "\n",
      "       ...,\n",
      "\n",
      "       [[0., 0., 0., ..., 0., 0., 0.],\n",
      "        [0., 0., 0., ..., 0., 0., 0.],\n",
      "        [0., 0., 0., ..., 0., 0., 0.],\n",
      "        ...,\n",
      "        [0., 0., 0., ..., 0., 0., 0.],\n",
      "        [0., 0., 0., ..., 0., 0., 0.],\n",
      "        [0., 0., 0., ..., 0., 0., 0.]],\n",
      "\n",
      "       [[0., 0., 0., ..., 0., 0., 0.],\n",
      "        [0., 0., 0., ..., 0., 0., 0.],\n",
      "        [0., 0., 0., ..., 0., 0., 0.],\n",
      "        ...,\n",
      "        [0., 0., 0., ..., 0., 0., 0.],\n",
      "        [0., 0., 0., ..., 0., 0., 0.],\n",
      "        [0., 0., 0., ..., 0., 0., 0.]],\n",
      "\n",
      "       [[0., 0., 0., ..., 0., 0., 0.],\n",
      "        [0., 0., 0., ..., 0., 0., 0.],\n",
      "        [0., 0., 0., ..., 0., 0., 0.],\n",
      "        ...,\n",
      "        [0., 0., 0., ..., 0., 0., 0.],\n",
      "        [0., 0., 0., ..., 0., 0., 0.],\n",
      "        [0., 0., 0., ..., 0., 0., 0.]]], dtype=float32), array([1., 1., 1., ..., 1., 1., 1.], dtype=float32)], 'model': <keras.engine.training.Model object at 0x3a24cd4a8>, 'params': {'batch_size': 64, 'epochs': 2, 'steps': None, 'samples': 6675, 'verbose': 1, 'do_validation': True, 'metrics': ['loss', 'categorical_accuracy', 'val_loss', 'val_categorical_accuracy']}, 'epoch': [0, 1], 'history': {'val_loss': [1.141658191769476, 0.8262792330005342], 'val_categorical_accuracy': [0.1663489286202453, 0.23291028948548742], 'loss': [2.4017569958761835, 0.9835562831900093], 'categorical_accuracy': [0.11688117045476643, 0.20008171657497964]}}\n"
     ]
    }
   ],
   "source": [
    "print(history.__dict__)"
   ]
  },
  {
   "cell_type": "code",
   "execution_count": 7,
   "metadata": {},
   "outputs": [
    {
     "name": "stdout",
     "output_type": "stream",
     "text": [
      "{'history': {'val_loss': [1.141658191769476, 0.8262792330005342], 'val_categorical_accuracy': [0.1663489286202453, 0.23291028948548742], 'loss': [2.4017569958761835, 0.9835562831900093], 'categorical_accuracy': [0.11688117045476643, 0.20008171657497964]}, 'params': {'batch_size': 64, 'epochs': 2, 'steps': None, 'samples': 6675, 'verbose': 1, 'do_validation': True, 'metrics': ['loss', 'categorical_accuracy', 'val_loss', 'val_categorical_accuracy']}, 'epoch': [0, 1]}\n"
     ]
    }
   ],
   "source": [
    "from utils import write_history, read_history\n",
    "\n",
    "write_history(history, \"history_test.history\")\n",
    "history2 = read_history(\"history_test.history\")\n",
    "print(history2)"
   ]
  },
  {
   "cell_type": "code",
   "execution_count": null,
   "metadata": {},
   "outputs": [],
   "source": []
  }
 ],
 "metadata": {
  "kernelspec": {
   "display_name": "Python 3",
   "language": "python",
   "name": "python3"
  },
  "language_info": {
   "codemirror_mode": {
    "name": "ipython",
    "version": 3
   },
   "file_extension": ".py",
   "mimetype": "text/x-python",
   "name": "python",
   "nbconvert_exporter": "python",
   "pygments_lexer": "ipython3",
   "version": "3.6.5"
  }
 },
 "nbformat": 4,
 "nbformat_minor": 2
}
