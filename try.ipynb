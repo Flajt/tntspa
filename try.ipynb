{
 "cells": [
  {
   "cell_type": "code",
   "execution_count": 1,
   "metadata": {},
   "outputs": [],
   "source": [
    "from gensim_vector import GensimKeyedVector\n",
    "\n",
    "vector = GensimKeyedVector(\"data/wiki-news-300d-1M.vec\")"
   ]
  },
  {
   "cell_type": "code",
   "execution_count": 2,
   "metadata": {},
   "outputs": [
    {
     "data": {
      "text/plain": [
       "13169"
      ]
     },
     "execution_count": 2,
     "metadata": {},
     "output_type": "execute_result"
    }
   ],
   "source": [
    "vector.get_word_id(\"hello\")"
   ]
  },
  {
   "cell_type": "code",
   "execution_count": 3,
   "metadata": {},
   "outputs": [
    {
     "data": {
      "text/plain": [
       "'hello'"
      ]
     },
     "execution_count": 3,
     "metadata": {},
     "output_type": "execute_result"
    }
   ],
   "source": [
    "vector.get_vocabulary()[13169]"
   ]
  },
  {
   "cell_type": "code",
   "execution_count": 4,
   "metadata": {},
   "outputs": [
    {
     "data": {
      "text/plain": [
       "array([-1.920e-01,  1.544e-01,  4.670e-02,  5.920e-02,  1.369e-01,\n",
       "       -7.720e-02, -3.840e-02,  5.370e-02,  1.435e-01, -1.353e-01,\n",
       "       -5.300e-02, -6.680e-02,  1.850e-02,  8.730e-02,  9.030e-02,\n",
       "        1.663e-01,  3.500e-03, -2.102e-01,  2.010e-01, -2.490e-02,\n",
       "       -2.790e-02, -3.241e-01, -6.600e-03, -2.640e-02, -1.628e-01,\n",
       "       -1.094e-01, -8.820e-02,  9.700e-03,  1.228e-01,  5.900e-03,\n",
       "       -5.100e-02,  6.490e-02,  1.577e-01,  1.740e-02,  9.910e-02,\n",
       "        1.328e-01, -5.860e-02,  1.814e-01, -9.800e-03,  1.877e-01,\n",
       "        5.180e-02, -6.970e-02, -6.290e-02, -1.981e-01, -1.373e-01,\n",
       "       -8.110e-02, -6.310e-02, -6.390e-02,  1.244e-01, -2.470e-02,\n",
       "        2.250e-02, -3.174e-01, -8.462e-01, -1.248e-01,  8.240e-02,\n",
       "        2.120e-02,  9.960e-02, -3.440e-02,  1.383e-01, -9.830e-02,\n",
       "        1.637e-01, -1.906e-01, -1.969e-01,  1.473e-01,  1.318e-01,\n",
       "       -7.000e-02,  3.040e-02, -3.450e-02,  1.507e-01, -1.786e-01,\n",
       "        1.038e-01, -3.500e-03, -9.300e-02,  1.255e-01,  1.431e-01,\n",
       "        1.050e-01, -3.320e-02,  1.255e-01,  3.390e-02,  2.101e-01,\n",
       "       -2.050e-01, -1.511e-01, -2.529e-01, -8.870e-02,  1.720e-02,\n",
       "       -3.920e-02,  1.185e-01,  7.420e-02, -4.100e-03, -3.210e-02,\n",
       "       -1.839e-01, -4.810e-02, -9.440e-02, -7.610e-02,  1.848e-01,\n",
       "        1.434e-01, -1.804e-01,  1.901e-01, -6.400e-02, -4.500e-03,\n",
       "       -3.591e-01,  1.271e-01,  1.310e-01, -1.333e-01,  1.420e-02,\n",
       "        4.210e-02, -4.450e-02,  1.099e-01, -2.170e-02,  1.219e-01,\n",
       "       -2.670e-02,  1.990e-02,  1.360e-01, -1.530e-02, -1.697e-01,\n",
       "        1.873e-01, -1.548e-01, -1.473e-01, -8.620e-02, -2.747e-01,\n",
       "        3.300e-02,  1.104e-01,  6.090e-02, -6.010e-02, -7.770e-02,\n",
       "        2.211e-01, -5.180e-02,  2.104e-01,  1.254e-01,  6.380e-02,\n",
       "        5.120e-02,  2.958e-01, -7.600e-02, -1.364e-01, -5.430e-02,\n",
       "       -3.570e-02, -8.670e-02,  2.220e-02,  5.670e-02, -3.290e-02,\n",
       "       -8.670e-02, -1.850e-02, -6.610e-02,  3.185e-01,  2.148e-01,\n",
       "       -2.720e-02,  4.257e-01,  1.669e-01,  6.850e-02,  2.460e-02,\n",
       "       -9.450e-02, -1.255e-01, -8.150e-02,  1.723e-01,  3.600e-03,\n",
       "        2.151e-01,  3.610e-02, -1.102e-01,  3.080e-02, -1.286e-01,\n",
       "        1.790e-02, -9.250e-02,  8.810e-02,  1.405e-01,  8.400e-03,\n",
       "       -2.000e-04,  3.357e-01,  2.207e-01,  1.989e-01,  1.620e-01,\n",
       "        1.216e-01,  1.720e-02, -3.139e-01, -1.210e-02,  3.850e-02,\n",
       "        3.162e-01,  2.988e-01,  1.140e-01, -4.350e-02, -2.630e-02,\n",
       "        2.098e-01,  2.031e-01, -1.172e-01, -5.730e-02,  3.380e-02,\n",
       "       -1.571e-01,  2.510e-02, -1.132e-01,  1.342e-01, -9.270e-02,\n",
       "       -2.790e-02, -5.350e-02, -3.660e-02,  4.820e-02,  2.890e-02,\n",
       "        1.240e-02,  6.540e-02,  4.960e-02,  7.370e-02, -5.780e-02,\n",
       "        6.570e-02, -5.430e-02, -9.700e-02, -1.959e-01, -8.800e-03,\n",
       "       -2.090e-02, -3.239e-01,  2.730e-02,  1.335e-01,  1.131e-01,\n",
       "        8.210e-02, -1.017e-01, -7.230e-02, -7.960e-02,  1.959e-01,\n",
       "       -5.080e-02, -1.366e-01,  9.020e-02, -1.092e-01,  1.906e-01,\n",
       "       -9.590e-02, -5.520e-02, -8.240e-02, -8.400e-03, -1.913e-01,\n",
       "        1.190e-02, -1.825e-01,  1.000e-04, -2.331e-01, -3.245e-01,\n",
       "       -1.070e-01, -1.698e-01,  4.070e-01, -2.376e-01,  6.600e-03,\n",
       "        1.340e-02,  5.580e-02, -1.900e-03, -1.448e-01, -1.100e-01,\n",
       "       -1.374e-01, -1.287e-01, -1.671e-01, -2.066e-01, -5.110e-02,\n",
       "       -1.360e-02, -1.039e-01, -2.030e-02, -9.840e-02,  4.487e-01,\n",
       "        1.339e-01, -6.600e-03,  8.370e-02, -8.650e-02,  2.230e-02,\n",
       "       -1.043e-01, -2.572e-01,  1.440e-02, -1.167e-01,  3.300e-03,\n",
       "       -2.700e-03,  3.340e-02,  5.500e-02, -7.220e-02, -3.716e-01,\n",
       "        8.180e-02, -1.082e-01,  6.040e-02, -9.450e-02,  4.700e-02,\n",
       "       -5.530e-02, -9.820e-02, -1.643e-01,  7.500e-03, -7.590e-02,\n",
       "        1.812e-01, -1.675e-01,  8.610e-02,  1.988e-01, -3.320e-02,\n",
       "        1.763e-01, -2.210e-01,  2.302e-01, -4.000e-03,  3.350e-01,\n",
       "       -1.387e-01,  1.260e-02, -2.660e-01, -7.210e-02,  4.550e-02,\n",
       "        2.280e-02,  9.450e-02, -5.010e-02, -8.710e-02,  3.220e-02,\n",
       "       -4.520e-02,  1.194e-01, -4.770e-02,  3.156e-01,  1.597e-01],\n",
       "      dtype=float32)"
      ]
     },
     "execution_count": 4,
     "metadata": {},
     "output_type": "execute_result"
    }
   ],
   "source": [
    "vector.get_word_vector(\"hello\")"
   ]
  },
  {
   "cell_type": "code",
   "execution_count": 9,
   "metadata": {},
   "outputs": [
    {
     "ename": "KeyboardInterrupt",
     "evalue": "",
     "output_type": "error",
     "traceback": [
      "\u001b[0;31m-------------------------------------------------------------------------\u001b[0m",
      "\u001b[0;31mKeyboardInterrupt\u001b[0m                       Traceback (most recent call last)",
      "\u001b[0;32m<ipython-input-9-6de677596c24>\u001b[0m in \u001b[0;36m<module>\u001b[0;34m()\u001b[0m\n\u001b[1;32m      1\u001b[0m \u001b[0;32mfrom\u001b[0m \u001b[0mgensim\u001b[0m\u001b[0;34m.\u001b[0m\u001b[0mmodels\u001b[0m \u001b[0;32mimport\u001b[0m \u001b[0mFastText\u001b[0m\u001b[0;34m\u001b[0m\u001b[0m\n\u001b[1;32m      2\u001b[0m \u001b[0;34m\u001b[0m\u001b[0m\n\u001b[0;32m----> 3\u001b[0;31m \u001b[0mmodel\u001b[0m \u001b[0;34m=\u001b[0m \u001b[0mFastText\u001b[0m\u001b[0;34m.\u001b[0m\u001b[0mload_fasttext_format\u001b[0m\u001b[0;34m(\u001b[0m\u001b[0;34m\"data/wiki.en.bin\"\u001b[0m\u001b[0;34m)\u001b[0m\u001b[0;34m\u001b[0m\u001b[0m\n\u001b[0m",
      "\u001b[0;32m/Library/Frameworks/Python.framework/Versions/3.6/lib/python3.6/site-packages/gensim/models/fasttext.py\u001b[0m in \u001b[0;36mload_fasttext_format\u001b[0;34m(cls, model_file, encoding)\u001b[0m\n\u001b[1;32m    696\u001b[0m             \u001b[0mmodel_file\u001b[0m \u001b[0;34m+=\u001b[0m \u001b[0;34m'.bin'\u001b[0m\u001b[0;34m\u001b[0m\u001b[0m\n\u001b[1;32m    697\u001b[0m         \u001b[0mmodel\u001b[0m\u001b[0;34m.\u001b[0m\u001b[0mfile_name\u001b[0m \u001b[0;34m=\u001b[0m \u001b[0mmodel_file\u001b[0m\u001b[0;34m\u001b[0m\u001b[0m\n\u001b[0;32m--> 698\u001b[0;31m         \u001b[0mmodel\u001b[0m\u001b[0;34m.\u001b[0m\u001b[0mload_binary_data\u001b[0m\u001b[0;34m(\u001b[0m\u001b[0mencoding\u001b[0m\u001b[0;34m=\u001b[0m\u001b[0mencoding\u001b[0m\u001b[0;34m)\u001b[0m\u001b[0;34m\u001b[0m\u001b[0m\n\u001b[0m\u001b[1;32m    699\u001b[0m         \u001b[0;32mreturn\u001b[0m \u001b[0mmodel\u001b[0m\u001b[0;34m\u001b[0m\u001b[0m\n\u001b[1;32m    700\u001b[0m \u001b[0;34m\u001b[0m\u001b[0m\n",
      "\u001b[0;32m/Library/Frameworks/Python.framework/Versions/3.6/lib/python3.6/site-packages/gensim/models/fasttext.py\u001b[0m in \u001b[0;36mload_binary_data\u001b[0;34m(self, encoding)\u001b[0m\n\u001b[1;32m    713\u001b[0m             \u001b[0mself\u001b[0m\u001b[0;34m.\u001b[0m\u001b[0m_load_model_params\u001b[0m\u001b[0;34m(\u001b[0m\u001b[0mf\u001b[0m\u001b[0;34m)\u001b[0m\u001b[0;34m\u001b[0m\u001b[0m\n\u001b[1;32m    714\u001b[0m             \u001b[0mself\u001b[0m\u001b[0;34m.\u001b[0m\u001b[0m_load_dict\u001b[0m\u001b[0;34m(\u001b[0m\u001b[0mf\u001b[0m\u001b[0;34m,\u001b[0m \u001b[0mencoding\u001b[0m\u001b[0;34m=\u001b[0m\u001b[0mencoding\u001b[0m\u001b[0;34m)\u001b[0m\u001b[0;34m\u001b[0m\u001b[0m\n\u001b[0;32m--> 715\u001b[0;31m             \u001b[0mself\u001b[0m\u001b[0;34m.\u001b[0m\u001b[0m_load_vectors\u001b[0m\u001b[0;34m(\u001b[0m\u001b[0mf\u001b[0m\u001b[0;34m)\u001b[0m\u001b[0;34m\u001b[0m\u001b[0m\n\u001b[0m\u001b[1;32m    716\u001b[0m \u001b[0;34m\u001b[0m\u001b[0m\n\u001b[1;32m    717\u001b[0m     \u001b[0;32mdef\u001b[0m \u001b[0m_load_model_params\u001b[0m\u001b[0;34m(\u001b[0m\u001b[0mself\u001b[0m\u001b[0;34m,\u001b[0m \u001b[0mfile_handle\u001b[0m\u001b[0;34m)\u001b[0m\u001b[0;34m:\u001b[0m\u001b[0;34m\u001b[0m\u001b[0m\n",
      "\u001b[0;32m/Library/Frameworks/Python.framework/Versions/3.6/lib/python3.6/site-packages/gensim/models/fasttext.py\u001b[0m in \u001b[0;36m_load_vectors\u001b[0;34m(self, file_handle)\u001b[0m\n\u001b[1;32m    829\u001b[0m             )\n\u001b[1;32m    830\u001b[0m \u001b[0;34m\u001b[0m\u001b[0m\n\u001b[0;32m--> 831\u001b[0;31m         \u001b[0mself\u001b[0m\u001b[0;34m.\u001b[0m\u001b[0mtrainables\u001b[0m\u001b[0;34m.\u001b[0m\u001b[0minit_ngrams_post_load\u001b[0m\u001b[0;34m(\u001b[0m\u001b[0mself\u001b[0m\u001b[0;34m.\u001b[0m\u001b[0mfile_name\u001b[0m\u001b[0;34m,\u001b[0m \u001b[0mself\u001b[0m\u001b[0;34m.\u001b[0m\u001b[0mwv\u001b[0m\u001b[0;34m)\u001b[0m\u001b[0;34m\u001b[0m\u001b[0m\n\u001b[0m\u001b[1;32m    832\u001b[0m         \u001b[0mself\u001b[0m\u001b[0;34m.\u001b[0m\u001b[0m_clear_post_train\u001b[0m\u001b[0;34m(\u001b[0m\u001b[0;34m)\u001b[0m\u001b[0;34m\u001b[0m\u001b[0m\n\u001b[1;32m    833\u001b[0m \u001b[0;34m\u001b[0m\u001b[0m\n",
      "\u001b[0;32m/Library/Frameworks/Python.framework/Versions/3.6/lib/python3.6/site-packages/gensim/models/fasttext.py\u001b[0m in \u001b[0;36minit_ngrams_post_load\u001b[0;34m(self, file_name, wv)\u001b[0m\n\u001b[1;32m   1070\u001b[0m             \u001b[0;32mfor\u001b[0m \u001b[0mword_ngram\u001b[0m \u001b[0;32min\u001b[0m \u001b[0mword_ngrams\u001b[0m\u001b[0;34m:\u001b[0m\u001b[0;34m\u001b[0m\u001b[0m\n\u001b[1;32m   1071\u001b[0m                 \u001b[0mvec_idx\u001b[0m \u001b[0;34m=\u001b[0m \u001b[0mwv\u001b[0m\u001b[0;34m.\u001b[0m\u001b[0mhash2index\u001b[0m\u001b[0;34m[\u001b[0m\u001b[0m_ft_hash\u001b[0m\u001b[0;34m(\u001b[0m\u001b[0mword_ngram\u001b[0m\u001b[0;34m)\u001b[0m \u001b[0;34m%\u001b[0m \u001b[0mself\u001b[0m\u001b[0;34m.\u001b[0m\u001b[0mbucket\u001b[0m\u001b[0;34m]\u001b[0m\u001b[0;34m\u001b[0m\u001b[0m\n\u001b[0;32m-> 1072\u001b[0;31m                 \u001b[0mwv\u001b[0m\u001b[0;34m.\u001b[0m\u001b[0mvectors\u001b[0m\u001b[0;34m[\u001b[0m\u001b[0mvocab\u001b[0m\u001b[0;34m.\u001b[0m\u001b[0mindex\u001b[0m\u001b[0;34m]\u001b[0m \u001b[0;34m+=\u001b[0m \u001b[0mnp\u001b[0m\u001b[0;34m.\u001b[0m\u001b[0marray\u001b[0m\u001b[0;34m(\u001b[0m\u001b[0mngram_weights\u001b[0m\u001b[0;34m[\u001b[0m\u001b[0mvec_idx\u001b[0m\u001b[0;34m]\u001b[0m\u001b[0;34m)\u001b[0m\u001b[0;34m\u001b[0m\u001b[0m\n\u001b[0m\u001b[1;32m   1073\u001b[0m \u001b[0;34m\u001b[0m\u001b[0m\n\u001b[1;32m   1074\u001b[0m             \u001b[0mwv\u001b[0m\u001b[0;34m.\u001b[0m\u001b[0mvectors\u001b[0m\u001b[0;34m[\u001b[0m\u001b[0mvocab\u001b[0m\u001b[0;34m.\u001b[0m\u001b[0mindex\u001b[0m\u001b[0;34m]\u001b[0m \u001b[0;34m/=\u001b[0m \u001b[0;34m(\u001b[0m\u001b[0mlen\u001b[0m\u001b[0;34m(\u001b[0m\u001b[0mword_ngrams\u001b[0m\u001b[0;34m)\u001b[0m \u001b[0;34m+\u001b[0m \u001b[0;36m1\u001b[0m\u001b[0;34m)\u001b[0m\u001b[0;34m\u001b[0m\u001b[0m\n",
      "\u001b[0;31mKeyboardInterrupt\u001b[0m: "
     ]
    }
   ],
   "source": [
    "from gensim.models import FastText\n",
    "\n",
    "model = FastText.load_fasttext_format(\"data/wiki.en.bin\")"
   ]
  },
  {
   "cell_type": "code",
   "execution_count": null,
   "metadata": {},
   "outputs": [],
   "source": []
  }
 ],
 "metadata": {
  "kernelspec": {
   "display_name": "Python 3",
   "language": "python",
   "name": "python3"
  },
  "language_info": {
   "codemirror_mode": {
    "name": "ipython",
    "version": 3
   },
   "file_extension": ".py",
   "mimetype": "text/x-python",
   "name": "python",
   "nbconvert_exporter": "python",
   "pygments_lexer": "ipython3",
   "version": "3.6.5"
  }
 },
 "nbformat": 4,
 "nbformat_minor": 2
}
