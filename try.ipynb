{
 "cells": [
  {
   "cell_type": "code",
   "execution_count": null,
   "metadata": {},
   "outputs": [],
   "source": [
    "import fastText\n",
    "from preprocessing import preprocess_sentence\n"
   ]
  },
  {
   "cell_type": "code",
   "execution_count": null,
   "metadata": {},
   "outputs": [],
   "source": [
    "file_input_en = \"data/qald-7-test-largescale_part1.en\"\n",
    "file_input_en_vectors = \"data/wiki.en.bin\"\n",
    "\n",
    "input_texts = []\n",
    "with open(file_input_en) as file:\n",
    "    for line in file:\n",
    "        input_texts.append(preprocess_sentence(line))\n",
    "        \n",
    "input_vectors = fastText.load_model(file_input_en_vectors)"
   ]
  },
  {
   "cell_type": "code",
   "execution_count": null,
   "metadata": {},
   "outputs": [],
   "source": [
    "def compute_oov_ratio(sentence):\n",
    "    words = sentence.split()\n",
    "    oov_words = [1 if input_vectors.get_word_id(word.lower()) == -1 else 0 for word in words]\n",
    "    return sum(oov_words) / len(words)\n",
    "\n",
    "oov_ratios = [compute_oov_ratio(s) for s in input_texts]\n",
    "print(oov_ratios)\n",
    "print(sum(oov_ratios) / len(oov_ratios))"
   ]
  },
  {
   "cell_type": "code",
   "execution_count": null,
   "metadata": {},
   "outputs": [],
   "source": [
    "input_vectors.get_word_vector(\"never sienaalwdq\")"
   ]
  },
  {
   "cell_type": "code",
   "execution_count": null,
   "metadata": {},
   "outputs": [],
   "source": []
  }
 ],
 "metadata": {
  "kernelspec": {
   "display_name": "Python 3",
   "language": "python",
   "name": "python3"
  },
  "language_info": {
   "codemirror_mode": {
    "name": "ipython",
    "version": 3
   },
   "file_extension": ".py",
   "mimetype": "text/x-python",
   "name": "python",
   "nbconvert_exporter": "python",
   "pygments_lexer": "ipython3",
   "version": "3.6.5"
  }
 },
 "nbformat": 4,
 "nbformat_minor": 2
}
