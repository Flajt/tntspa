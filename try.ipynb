{
 "cells": [
  {
   "cell_type": "code",
   "execution_count": 1,
   "metadata": {},
   "outputs": [
    {
     "name": "stderr",
     "output_type": "stream",
     "text": [
      "/Library/Frameworks/Python.framework/Versions/3.6/lib/python3.6/site-packages/h5py/__init__.py:36: FutureWarning: Conversion of the second argument of issubdtype from `float` to `np.floating` is deprecated. In future, it will be treated as `np.float64 == np.dtype(float).type`.\n",
      "  from ._conv import register_converters as _register_converters\n",
      "Using TensorFlow backend.\n"
     ]
    }
   ],
   "source": [
    "import utils\n",
    "from model import MyModel\n",
    "from fasttext_vector import FastTextVector"
   ]
  },
  {
   "cell_type": "code",
   "execution_count": 2,
   "metadata": {},
   "outputs": [],
   "source": [
    "input_texts = utils.read_lines(\"data/monument_600/train.en\")\n",
    "target_texts = utils.read_lines(\"data/monument_600/train.sparql\")"
   ]
  },
  {
   "cell_type": "code",
   "execution_count": 3,
   "metadata": {},
   "outputs": [
    {
     "name": "stdout",
     "output_type": "stream",
     "text": [
      "Number of samples: 14588\n",
      "Number of unique input words: 2519370\n",
      "Number of unique output words: 2208\n",
      "Max sequenc length for inputs: 23\n",
      "Max sequenc length for outputs: 40\n",
      "Train on 11670 samples, validate on 2918 samples\n",
      "Epoch 1/10\n",
      "11670/11670 [==============================] - 113s 10ms/step - loss: 2.3103 - categorical_accuracy: 0.0606 - val_loss: 1.0468 - val_categorical_accuracy: 0.0987\n",
      "Epoch 2/10\n",
      "11670/11670 [==============================] - 109s 9ms/step - loss: 0.9094 - categorical_accuracy: 0.1089 - val_loss: 0.8308 - val_categorical_accuracy: 0.1273\n",
      "Epoch 3/10\n",
      "11670/11670 [==============================] - 108s 9ms/step - loss: 0.7229 - categorical_accuracy: 0.1515 - val_loss: 0.6408 - val_categorical_accuracy: 0.1672\n",
      "Epoch 4/10\n",
      "11670/11670 [==============================] - 109s 9ms/step - loss: 0.5646 - categorical_accuracy: 0.1862 - val_loss: 0.5072 - val_categorical_accuracy: 0.2035\n",
      "Epoch 5/10\n",
      "11670/11670 [==============================] - 106s 9ms/step - loss: 0.4577 - categorical_accuracy: 0.2169 - val_loss: 0.4198 - val_categorical_accuracy: 0.2337\n",
      "Epoch 6/10\n",
      "11670/11670 [==============================] - 108s 9ms/step - loss: 0.3829 - categorical_accuracy: 0.2345 - val_loss: 0.3525 - val_categorical_accuracy: 0.2439\n",
      "Epoch 7/10\n",
      "11670/11670 [==============================] - 109s 9ms/step - loss: 0.3272 - categorical_accuracy: 0.2430 - val_loss: 0.3233 - val_categorical_accuracy: 0.2509\n",
      "Epoch 8/10\n",
      "11670/11670 [==============================] - 111s 10ms/step - loss: 0.2883 - categorical_accuracy: 0.2495 - val_loss: 0.2873 - val_categorical_accuracy: 0.2555\n",
      "Epoch 9/10\n",
      "11670/11670 [==============================] - 112s 10ms/step - loss: 0.2604 - categorical_accuracy: 0.2544 - val_loss: 0.2724 - val_categorical_accuracy: 0.2562\n",
      "Epoch 10/10\n",
      "11670/11670 [==============================] - 115s 10ms/step - loss: 0.2406 - categorical_accuracy: 0.2576 - val_loss: 0.2519 - val_categorical_accuracy: 0.2595\n"
     ]
    },
    {
     "data": {
      "text/plain": [
       "<keras.callbacks.History at 0x34ebc1f98>"
      ]
     },
     "execution_count": 3,
     "metadata": {},
     "output_type": "execute_result"
    }
   ],
   "source": [
    "model = MyModel(input_word_vector=FastTextVector(\"data/wiki.en.bin\"), num_layers=2)\n",
    "model.train(input_texts, target_texts, epochs=10, batch_size=128)"
   ]
  },
  {
   "cell_type": "code",
   "execution_count": 4,
   "metadata": {},
   "outputs": [
    {
     "data": {
      "image/png": "[encoded data removed]",
      "text/plain": [
       "<Figure size 432x288 with 1 Axes>"
      ]
     },
     "metadata": {},
     "output_type": "display_data"
    },
    {
     "name": "stderr",
     "output_type": "stream",
     "text": [
      "/Library/Frameworks/Python.framework/Versions/3.6/lib/python3.6/site-packages/keras/engine/network.py:888: UserWarning: Layer lstm_3 was passed non-serializable keyword arguments: {'initial_state': [<tf.Tensor 'lstm_1/while/Exit_2:0' shape=(?, 128) dtype=float32>, <tf.Tensor 'lstm_1/while/Exit_3:0' shape=(?, 128) dtype=float32>]}. They will not be included in the serialized model (and thus will be missing at deserialization time).\n",
      "  '. They will not be included '\n",
      "/Library/Frameworks/Python.framework/Versions/3.6/lib/python3.6/site-packages/keras/engine/network.py:888: UserWarning: Layer lstm_4 was passed non-serializable keyword arguments: {'initial_state': [<tf.Tensor 'lstm_2/while/Exit_2:0' shape=(?, 128) dtype=float32>, <tf.Tensor 'lstm_2/while/Exit_3:0' shape=(?, 128) dtype=float32>]}. They will not be included in the serialized model (and thus will be missing at deserialization time).\n",
      "  '. They will not be included '\n"
     ]
    }
   ],
   "source": [
    "model.visualize()\n",
    "model.save('output/my_model.h5')\n",
    "model.plot_model('output/my_model.png')\n",
    "# print(model.inference(\"I have a dream\"))"
   ]
  },
  {
   "cell_type": "code",
   "execution_count": null,
   "metadata": {},
   "outputs": [],
   "source": []
  }
 ],
 "metadata": {
  "kernelspec": {
   "display_name": "Python 3",
   "language": "python",
   "name": "python3"
  },
  "language_info": {
   "codemirror_mode": {
    "name": "ipython",
    "version": 3
   },
   "file_extension": ".py",
   "mimetype": "text/x-python",
   "name": "python",
   "nbconvert_exporter": "python",
   "pygments_lexer": "ipython3",
   "version": "3.6.5"
  }
 },
 "nbformat": 4,
 "nbformat_minor": 2
}
